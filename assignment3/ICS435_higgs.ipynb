{
 "cells": [
  {
   "cell_type": "code",
   "execution_count": 1,
   "metadata": {
    "colab": {
     "base_uri": "https://localhost:8080/"
    },
    "id": "OTHb-BD8-ShQ",
    "outputId": "7bdeb0e4-9b06-43c8-924a-3546ad962e84"
   },
   "outputs": [
    {
     "name": "stdout",
     "output_type": "stream",
     "text": [
      "Defaulting to user installation because normal site-packages is not writeable\n",
      "Requirement already satisfied: kaggle in /home/vchan26/.local/lib/python3.11/site-packages (1.6.17)\n",
      "Requirement already satisfied: six>=1.10 in /opt/apps/software/lang/Anaconda3/2024.02-1/lib/python3.11/site-packages (from kaggle) (1.16.0)\n",
      "Requirement already satisfied: certifi>=2023.7.22 in /opt/apps/software/lang/Anaconda3/2024.02-1/lib/python3.11/site-packages (from kaggle) (2024.2.2)\n",
      "Requirement already satisfied: python-dateutil in /opt/apps/software/lang/Anaconda3/2024.02-1/lib/python3.11/site-packages (from kaggle) (2.8.2)\n",
      "Requirement already satisfied: requests in /opt/apps/software/lang/Anaconda3/2024.02-1/lib/python3.11/site-packages (from kaggle) (2.31.0)\n",
      "Requirement already satisfied: tqdm in /opt/apps/software/lang/Anaconda3/2024.02-1/lib/python3.11/site-packages (from kaggle) (4.65.0)\n",
      "Requirement already satisfied: python-slugify in /opt/apps/software/lang/Anaconda3/2024.02-1/lib/python3.11/site-packages (from kaggle) (5.0.2)\n",
      "Requirement already satisfied: urllib3 in /opt/apps/software/lang/Anaconda3/2024.02-1/lib/python3.11/site-packages (from kaggle) (2.1.0)\n",
      "Requirement already satisfied: bleach in /opt/apps/software/lang/Anaconda3/2024.02-1/lib/python3.11/site-packages (from kaggle) (4.1.0)\n",
      "Requirement already satisfied: packaging in /opt/apps/software/lang/Anaconda3/2024.02-1/lib/python3.11/site-packages (from bleach->kaggle) (23.2)\n",
      "Requirement already satisfied: webencodings in /opt/apps/software/lang/Anaconda3/2024.02-1/lib/python3.11/site-packages (from bleach->kaggle) (0.5.1)\n",
      "Requirement already satisfied: text-unidecode>=1.3 in /opt/apps/software/lang/Anaconda3/2024.02-1/lib/python3.11/site-packages (from python-slugify->kaggle) (1.3)\n",
      "Requirement already satisfied: charset-normalizer<4,>=2 in /opt/apps/software/lang/Anaconda3/2024.02-1/lib/python3.11/site-packages (from requests->kaggle) (2.0.4)\n",
      "Requirement already satisfied: idna<4,>=2.5 in /opt/apps/software/lang/Anaconda3/2024.02-1/lib/python3.11/site-packages (from requests->kaggle) (3.7)\n"
     ]
    }
   ],
   "source": [
    "%pip install kaggle"
   ]
  },
  {
   "cell_type": "code",
   "execution_count": 160,
   "metadata": {
    "id": "ETezQQAH990t"
   },
   "outputs": [],
   "source": [
    "# from google.colab import userdata\n",
    "# import os\n",
    "\n",
    "# os.environ[\"KAGGLE_KEY\"] = userdata.get('KAGGLE_KEY')\n",
    "# os.environ[\"KAGGLE_USERNAME\"] = userdata.get('KAGGLE_USERNAME')\n",
    "\n",
    "\n"
   ]
  },
  {
   "cell_type": "code",
   "execution_count": 161,
   "metadata": {
    "colab": {
     "base_uri": "https://localhost:8080/"
    },
    "id": "E8IXZLVO_XO7",
    "outputId": "d158af46-e3d8-4190-aec9-4f70e2bcc079"
   },
   "outputs": [
    {
     "name": "stdout",
     "output_type": "stream",
     "text": [
      "higgs-boson-detection-2025.zip: Skipping, found more recently modified local copy (use --force to force download)\n",
      "Archive:  higgs-boson-detection-2025.zip\n",
      "replace sample_submission.csv? [y]es, [n]o, [A]ll, [N]one, [r]ename: y\n",
      "  inflating: sample_submission.csv   \n",
      "replace test.csv? [y]es, [n]o, [A]ll, [N]one, [r]ename: y\n",
      "  inflating: test.csv                \n",
      "replace train.csv? [y]es, [n]o, [A]ll, [N]one, [r]ename: y\n",
      "  inflating: train.csv               \n"
     ]
    }
   ],
   "source": [
    "!kaggle competitions download -c higgs-boson-detection-2025\n",
    "!unzip higgs-boson-detection-2025.zip"
   ]
  },
  {
   "cell_type": "code",
   "execution_count": 2,
   "metadata": {
    "colab": {
     "base_uri": "https://localhost:8080/"
    },
    "id": "-mWkbw-wP2Dm",
    "outputId": "e3375037-5147-4f3f-8d63-173f94980912"
   },
   "outputs": [
    {
     "name": "stdout",
     "output_type": "stream",
     "text": [
      "Defaulting to user installation because normal site-packages is not writeable\n",
      "Requirement already satisfied: scikit-learn in /opt/apps/software/lang/Anaconda3/2024.02-1/lib/python3.11/site-packages (1.4.2)\n",
      "Requirement already satisfied: numpy>=1.19.5 in /opt/apps/software/lang/Anaconda3/2024.02-1/lib/python3.11/site-packages (from scikit-learn) (1.26.4)\n",
      "Requirement already satisfied: scipy>=1.6.0 in /opt/apps/software/lang/Anaconda3/2024.02-1/lib/python3.11/site-packages (from scikit-learn) (1.13.0)\n",
      "Requirement already satisfied: joblib>=1.2.0 in /opt/apps/software/lang/Anaconda3/2024.02-1/lib/python3.11/site-packages (from scikit-learn) (1.4.0)\n",
      "Requirement already satisfied: threadpoolctl>=2.0.0 in /opt/apps/software/lang/Anaconda3/2024.02-1/lib/python3.11/site-packages (from scikit-learn) (2.2.0)\n"
     ]
    }
   ],
   "source": [
    "%pip install scikit-learn"
   ]
  },
  {
   "cell_type": "code",
   "execution_count": 1,
   "metadata": {},
   "outputs": [
    {
     "name": "stdout",
     "output_type": "stream",
     "text": [
      "/home/vchan26/ICS435/assignment3\n"
     ]
    },
    {
     "name": "stderr",
     "output_type": "stream",
     "text": [
      "/home/vchan26/.conda/envs/ics435/lib/python3.11/site-packages/IPython/core/magics/osm.py:417: UserWarning: This is now an optional IPython functionality, setting dhist requires you to install the `pickleshare` library.\n",
      "  self.shell.db['dhist'] = compress_dhist(dhist)[-100:]\n"
     ]
    }
   ],
   "source": [
    "%cd ICS435/assignment3/"
   ]
  },
  {
   "cell_type": "code",
   "execution_count": 2,
   "metadata": {
    "id": "qd7KhhVf_ls9",
    "scrolled": true
   },
   "outputs": [],
   "source": [
    "from sklearn.datasets import load_breast_cancer\n",
    "from sklearn.model_selection import GridSearchCV, train_test_split\n",
    "from sklearn.preprocessing import StandardScaler\n",
    "from sklearn.neighbors import KNeighborsClassifier\n",
    "from sklearn.tree import DecisionTreeClassifier\n",
    "from sklearn.ensemble import RandomForestClassifier, AdaBoostClassifier\n",
    "from sklearn.metrics import ConfusionMatrixDisplay\n",
    "from sklearn.neural_network import MLPClassifier\n",
    "from sklearn.metrics import confusion_matrix\n",
    "from sklearn.experimental import enable_halving_search_cv\n",
    "from sklearn.model_selection import HalvingRandomSearchCV\n",
    "import xgboost as xgb\n",
    "import sklearn.metrics as metrics\n",
    "import numpy as np\n",
    "import matplotlib.pyplot as plt\n",
    "import pandas as pd\n",
    "import math\n",
    "import torch\n",
    "from pytorch_tabnet.tab_model import TabNetClassifier\n",
    "\n"
   ]
  },
  {
   "cell_type": "code",
   "execution_count": 3,
   "metadata": {
    "id": "AzZ02KH3_4zM"
   },
   "outputs": [],
   "source": [
    "train = pd.read_csv('train.csv')\n",
    "X_train = train.drop('label', axis=1)\n",
    "y_train = train['label']\n",
    "\n",
    "# X_train, X_val, y_train, y_val = train_test_split(X_train, y_train, test_size=0.2, train_size=0.8, random_state=2)\n",
    "# scaler = StandardScaler()\n",
    "# X_scaled_train = scaler.fit_transform(X_train)\n",
    "# X_scaled_val = scaler.transform(X_val)\n",
    "# knn = KNeighborsClassifier(n_neighbors=10)\n",
    "# knn.fit(X_scaled_train, y_train)\n",
    "xgb.set_config(verbosity=1)\n",
    "\n",
    "test = pd.read_csv('test.csv')"
   ]
  },
  {
   "cell_type": "code",
   "execution_count": 5,
   "metadata": {
    "colab": {
     "base_uri": "https://localhost:8080/"
    },
    "id": "atrlyp43CQbv",
    "outputId": "c4bbca9d-578c-4e09-fa67-714fb6cd0fc3"
   },
   "outputs": [],
   "source": [
    "def modelfit(alg, X_train, y_train, X_val, y_val, useTrainCV=True, cv_folds=5, early_stopping_rounds=50):\n",
    "    # Perform Cross-Validation to find optimal number of boosting rounds\n",
    "    if useTrainCV:\n",
    "        xgb_param = alg.get_xgb_params()\n",
    "        xgtrain = xgb.DMatrix(X_train, label=y_train)\n",
    "        cvresult = xgb.cv(xgb_param, xgtrain, num_boost_round=alg.get_params()['n_estimators'],\n",
    "                          nfold=cv_folds, metrics='auc', early_stopping_rounds=early_stopping_rounds)\n",
    "        alg.set_params(n_estimators=cvresult.shape[0])\n",
    "\n",
    "    # Train the model\n",
    "    alg.fit(X_train, y_train, eval_set=[(X_val, y_val)], verbose=True)\n",
    "\n",
    "    # Predictions\n",
    "    y_train_pred = alg.predict(X_train)\n",
    "    y_train_prob = alg.predict_proba(X_train)[:, 1]\n",
    "    y_val_pred = alg.predict(X_val)\n",
    "    y_val_prob = alg.predict_proba(X_val)[:, 1]\n",
    "\n",
    "    # Model Report\n",
    "    print(\"\\nModel Report\")\n",
    "    print(f\"Train Accuracy : {metrics.accuracy_score(y_train, y_train_pred):.4f}\")\n",
    "    print(f\"Train AUC : {metrics.roc_auc_score(y_train, y_train_prob):.4f}\")\n",
    "    print(f\"Validation Accuracy : {metrics.accuracy_score(y_val, y_val_pred):.4f}\")\n",
    "    print(f\"Validation AUC : {metrics.roc_auc_score(y_val, y_val_prob):.4f}\")\n",
    "\n",
    "    # Feature Importance Plot\n",
    "    feat_imp = pd.Series(alg.feature_importances_, index=X_train.columns).sort_values(ascending=False)\n",
    "    feat_imp.plot(kind='bar', title='Feature Importances')\n",
    "    plt.ylabel('Feature Importance Score')\n",
    "    plt.show()\n",
    "    return alg\n"
   ]
  },
  {
   "cell_type": "code",
   "execution_count": 4,
   "metadata": {
    "id": "TlGGN2x0i1Vz"
   },
   "outputs": [
    {
     "name": "stdout",
     "output_type": "stream",
     "text": [
      "0.95274\n"
     ]
    }
   ],
   "source": [
    "\n",
    "params = {'max_depth': 11, 'min_child_weight': 5, 'learning_rate': 0.004466022836585045, 'subsample': 0.703237335080885, 'colsample_bytree': 0.9949901696482174, 'reg_alpha': 7.196356878367213e-07, 'reg_lambda': 0.023281418194967988}\n",
    "xgb_model = xgb.XGBClassifier(\n",
    "    random_state=42,\n",
    "    n_estimators=2500,\n",
    "    learning_rate=0.004466022836585045,\n",
    "    max_depth=11,\n",
    "    reg_alpha=7.196356878367213e-07,\n",
    "    min_child_weight=5,\n",
    "    gamma=0,\n",
    "    subsample=0.703237335080885,\n",
    "    colsample_bytree=0.9949901696482174,\n",
    "    reg_lambda=0.023281418194967988,\n",
    "    objective= 'binary:logistic',\n",
    "    tree_method='hist',\n",
    "    max_bin=256\n",
    ")\n",
    "\n",
    "xgb_model.fit(X_train, y_train)\n",
    "feature_importance = xgb_model.feature_importances_\n",
    "selected_features = np.array(X_train.columns)[feature_importance > np.percentile(feature_importance, 20)]  # Keep top 50%\n",
    "X_train_selected = X_train[selected_features]\n",
    "# X_val_selected = X_val[selected_features]\n",
    "\n",
    "xgb_model.fit(X_train_selected, y_train)\n",
    "\n",
    "# alg = modelfit(xgb_model, X_train, y_train, X_val, y_val)\n",
    "# y_pred_prob = xgb_model.predict_proba(X_val)[:, 1]\n",
    "# y_pred_prob = xgb_model.predict_proba(X_val_selected)[:, 1]\n",
    "\n",
    "print(xgb_model.score(X_train_selected, y_train))\n",
    "# print(xgb_model.score(X_val_selected, y_val))\n"
   ]
  },
  {
   "cell_type": "code",
   "execution_count": 5,
   "metadata": {},
   "outputs": [
    {
     "name": "stderr",
     "output_type": "stream",
     "text": [
      "[I 2025-02-23 01:41:36,551] A new study created in memory with name: no-name-adb5efa6-6dfc-4d83-96ce-c1ca1e7b536c\n"
     ]
    },
    {
     "name": "stderr",
     "output_type": "stream",
     "text": [
      "[I 2025-02-23 01:41:59,781] Trial 0 finished with value: 0.8012398256661752 and parameters: {'max_depth': 6, 'min_child_weight': 4, 'learning_rate': 0.0023077216104406425, 'subsample': 0.5575676364456452, 'colsample_bytree': 0.6217373891514228, 'reg_alpha': 0.0382691866388516, 'reg_lambda': 0.0008010451740826015}. Best is trial 0 with value: 0.8012398256661752.\n",
      "[I 2025-02-23 01:42:17,279] Trial 1 finished with value: 0.7992607082631773 and parameters: {'max_depth': 4, 'min_child_weight': 2, 'learning_rate': 0.006859199917622361, 'subsample': 0.6197371423213349, 'colsample_bytree': 0.7907951697997665, 'reg_alpha': 1.4962813828245427e-07, 'reg_lambda': 0.10868935826240791}. Best is trial 0 with value: 0.8012398256661752.\n",
      "[I 2025-02-23 01:42:34,917] Trial 2 finished with value: 0.8037498415834963 and parameters: {'max_depth': 7, 'min_child_weight': 1, 'learning_rate': 0.0056996558897650885, 'subsample': 0.6765697879512005, 'colsample_bytree': 0.6574704354198679, 'reg_alpha': 0.005309608131759553, 'reg_lambda': 1.0870649154219499e-07}. Best is trial 2 with value: 0.8037498415834963.\n",
      "[I 2025-02-23 01:43:35,983] Trial 3 finished with value: 0.8058187801907131 and parameters: {'max_depth': 11, 'min_child_weight': 4, 'learning_rate': 0.0016517771754172895, 'subsample': 0.5650706326697291, 'colsample_bytree': 0.8147446248339392, 'reg_alpha': 1.659455461337703e-07, 'reg_lambda': 0.09854412555115866}. Best is trial 3 with value: 0.8058187801907131.\n",
      "[I 2025-02-23 01:43:47,093] Trial 4 finished with value: 0.8024206282634954 and parameters: {'max_depth': 6, 'min_child_weight': 10, 'learning_rate': 0.007804442201009208, 'subsample': 0.9281876768875776, 'colsample_bytree': 0.8391829523636753, 'reg_alpha': 1.5675262469274876e-05, 'reg_lambda': 0.0034065714685968325}. Best is trial 3 with value: 0.8058187801907131.\n",
      "[I 2025-02-23 01:43:51,359] Trial 5 finished with value: 0.8038740457425372 and parameters: {'max_depth': 7, 'min_child_weight': 10, 'learning_rate': 0.023524082329814535, 'subsample': 0.7645725733234092, 'colsample_bytree': 0.8061547972060402, 'reg_alpha': 6.599886979648391e-08, 'reg_lambda': 0.33639902611833483}. Best is trial 3 with value: 0.8058187801907131.\n",
      "[I 2025-02-23 01:44:18,307] Trial 6 finished with value: 0.8031612768524755 and parameters: {'max_depth': 7, 'min_child_weight': 6, 'learning_rate': 0.002987776428970608, 'subsample': 0.9231627051966788, 'colsample_bytree': 0.6254352608450966, 'reg_alpha': 4.106545494104429e-07, 'reg_lambda': 0.00025271077720595043}. Best is trial 3 with value: 0.8058187801907131.\n",
      "[I 2025-02-23 01:44:20,794] Trial 7 finished with value: 0.7991959567090297 and parameters: {'max_depth': 10, 'min_child_weight': 9, 'learning_rate': 0.06618020061203812, 'subsample': 0.6033863412961811, 'colsample_bytree': 0.7983782653767236, 'reg_alpha': 4.03274358393157e-05, 'reg_lambda': 0.3107179316521031}. Best is trial 3 with value: 0.8058187801907131.\n",
      "[I 2025-02-23 01:44:22,886] Trial 8 finished with value: 0.7962027127488986 and parameters: {'max_depth': 9, 'min_child_weight': 9, 'learning_rate': 0.08227606187066372, 'subsample': 0.5778528783840411, 'colsample_bytree': 0.9899190282095492, 'reg_alpha': 0.0001239603674350931, 'reg_lambda': 1.3009910724169802e-08}. Best is trial 3 with value: 0.8058187801907131.\n",
      "[I 2025-02-23 01:44:38,139] Trial 9 finished with value: 0.7946056817019936 and parameters: {'max_depth': 3, 'min_child_weight': 4, 'learning_rate': 0.009139082923913461, 'subsample': 0.9296210811462677, 'colsample_bytree': 0.7126053236054676, 'reg_alpha': 2.4315487576835226e-06, 'reg_lambda': 0.00010593709109209936}. Best is trial 3 with value: 0.8058187801907131.\n",
      "[I 2025-02-23 01:45:59,066] Trial 10 finished with value: 0.804686691797335 and parameters: {'max_depth': 12, 'min_child_weight': 6, 'learning_rate': 0.0010860902924700556, 'subsample': 0.7793716329395801, 'colsample_bytree': 0.9298969366292591, 'reg_alpha': 1.9584895938544778e-08, 'reg_lambda': 3.4610140851031218e-06}. Best is trial 3 with value: 0.8058187801907131.\n",
      "[I 2025-02-23 01:47:19,480] Trial 11 finished with value: 0.804865109827347 and parameters: {'max_depth': 12, 'min_child_weight': 6, 'learning_rate': 0.00108712884437395, 'subsample': 0.7889994150158549, 'colsample_bytree': 0.9285269602104012, 'reg_alpha': 3.963371962664558e-08, 'reg_lambda': 1.7829012209331286e-06}. Best is trial 3 with value: 0.8058187801907131.\n",
      "[I 2025-02-23 01:48:42,055] Trial 12 finished with value: 0.8025398345499439 and parameters: {'max_depth': 12, 'min_child_weight': 4, 'learning_rate': 0.001119317294076998, 'subsample': 0.8438049331531328, 'colsample_bytree': 0.5242896689880052, 'reg_alpha': 1.0764725027519827e-08, 'reg_lambda': 4.624066506510833e-06}. Best is trial 3 with value: 0.8058187801907131.\n",
      "[I 2025-02-23 01:49:24,928] Trial 13 finished with value: 0.8057083653428004 and parameters: {'max_depth': 10, 'min_child_weight': 7, 'learning_rate': 0.0021950034955487857, 'subsample': 0.505397710844733, 'colsample_bytree': 0.8928513579786117, 'reg_alpha': 1.383044935073966e-06, 'reg_lambda': 3.303798944014337e-06}. Best is trial 3 with value: 0.8058187801907131.\n",
      "[I 2025-02-23 01:49:54,661] Trial 14 finished with value: 0.8048551742974948 and parameters: {'max_depth': 10, 'min_child_weight': 8, 'learning_rate': 0.002740162259162133, 'subsample': 0.5010792168146488, 'colsample_bytree': 0.8779022204245391, 'reg_alpha': 1.8753161866680847e-06, 'reg_lambda': 0.01676093255754251}. Best is trial 3 with value: 0.8058187801907131.\n",
      "[I 2025-02-23 01:50:02,378] Trial 15 finished with value: 0.8044152210069297 and parameters: {'max_depth': 10, 'min_child_weight': 7, 'learning_rate': 0.015238084939356241, 'subsample': 0.6706950801566343, 'colsample_bytree': 0.8792629887439343, 'reg_alpha': 0.0022870091016404864, 'reg_lambda': 1.8305466519867955e-05}. Best is trial 3 with value: 0.8058187801907131.\n",
      "[I 2025-02-23 01:50:38,213] Trial 16 finished with value: 0.804353741152511 and parameters: {'max_depth': 9, 'min_child_weight': 2, 'learning_rate': 0.0020560104412615187, 'subsample': 0.5037073930380701, 'colsample_bytree': 0.7285045085137143, 'reg_alpha': 0.808209714992162, 'reg_lambda': 2.5446442133593063e-07}. Best is trial 3 with value: 0.8058187801907131.\n",
      "[I 2025-02-23 01:51:04,280] Trial 17 finished with value: 0.8055355874822601 and parameters: {'max_depth': 11, 'min_child_weight': 5, 'learning_rate': 0.004328563057602999, 'subsample': 0.6777439667526448, 'colsample_bytree': 0.993039557506082, 'reg_alpha': 1.7858447502535428e-06, 'reg_lambda': 0.017231416260586954}. Best is trial 3 with value: 0.8058187801907131.\n",
      "[I 2025-02-23 01:51:56,594] Trial 18 finished with value: 0.8048851414612711 and parameters: {'max_depth': 9, 'min_child_weight': 3, 'learning_rate': 0.0017324295211018006, 'subsample': 0.5424477500863281, 'colsample_bytree': 0.9169606918702486, 'reg_alpha': 0.0003893116227019574, 'reg_lambda': 0.0023858287152238515}. Best is trial 3 with value: 0.8058187801907131.\n",
      "[I 2025-02-23 01:52:00,618] Trial 19 finished with value: 0.8005449206580701 and parameters: {'max_depth': 11, 'min_child_weight': 7, 'learning_rate': 0.034980335416987564, 'subsample': 0.6391192213358515, 'colsample_bytree': 0.7595648253976557, 'reg_alpha': 4.952676727348603e-06, 'reg_lambda': 2.443100330680767e-05}. Best is trial 3 with value: 0.8058187801907131.\n",
      "[I 2025-02-23 01:52:26,851] Trial 20 finished with value: 0.8034607678442417 and parameters: {'max_depth': 8, 'min_child_weight': 5, 'learning_rate': 0.0036477246939687264, 'subsample': 0.990148863031987, 'colsample_bytree': 0.8677538831278018, 'reg_alpha': 4.113180852148426e-07, 'reg_lambda': 3.966270601073314e-07}. Best is trial 3 with value: 0.8058187801907131.\n",
      "[I 2025-02-23 01:53:02,009] Trial 21 finished with value: 0.8062519090769356 and parameters: {'max_depth': 11, 'min_child_weight': 5, 'learning_rate': 0.004466022836585045, 'subsample': 0.703237335080885, 'colsample_bytree': 0.9949901696482174, 'reg_alpha': 7.196356878367213e-07, 'reg_lambda': 0.023281418194967988}. Best is trial 21 with value: 0.8062519090769356.\n",
      "[I 2025-02-23 01:54:02,776] Trial 22 finished with value: 0.805180598025764 and parameters: {'max_depth': 11, 'min_child_weight': 7, 'learning_rate': 0.0014671125902639306, 'subsample': 0.7282002098307558, 'colsample_bytree': 0.9658885845913823, 'reg_alpha': 3.852679111246075e-07, 'reg_lambda': 0.05716566242251589}. Best is trial 21 with value: 0.8062519090769356.\n",
      "[I 2025-02-23 01:54:25,481] Trial 23 finished with value: 0.8047388984905581 and parameters: {'max_depth': 11, 'min_child_weight': 3, 'learning_rate': 0.004961444827343554, 'subsample': 0.530770676015098, 'colsample_bytree': 0.9325730889996348, 'reg_alpha': 1.2873738023901619e-05, 'reg_lambda': 0.011240697626245418}. Best is trial 21 with value: 0.8062519090769356.\n",
      "[I 2025-02-23 01:54:39,810] Trial 24 finished with value: 0.8051208844877638 and parameters: {'max_depth': 10, 'min_child_weight': 5, 'learning_rate': 0.011480147520936278, 'subsample': 0.7228018269949674, 'colsample_bytree': 0.8341608243685021, 'reg_alpha': 1.4872331575220253e-07, 'reg_lambda': 0.929361696628656}. Best is trial 21 with value: 0.8062519090769356.\n",
      "[I 2025-02-23 01:55:13,513] Trial 25 finished with value: 0.805093667157502 and parameters: {'max_depth': 8, 'min_child_weight': 3, 'learning_rate': 0.003277719884555938, 'subsample': 0.5831644394946773, 'colsample_bytree': 0.8967681772099154, 'reg_alpha': 6.714670888280635e-07, 'reg_lambda': 0.0007370028765057781}. Best is trial 21 with value: 0.8062519090769356.\n",
      "[I 2025-02-23 01:56:15,546] Trial 26 finished with value: 0.8056788196863512 and parameters: {'max_depth': 12, 'min_child_weight': 8, 'learning_rate': 0.0016024720971432656, 'subsample': 0.6394975167821014, 'colsample_bytree': 0.9749122846561591, 'reg_alpha': 8.106223596603889e-06, 'reg_lambda': 2.2895421260926916e-05}. Best is trial 21 with value: 0.8062519090769356.\n",
      "[I 2025-02-23 01:57:20,941] Trial 27 finished with value: 0.8061452677231888 and parameters: {'max_depth': 11, 'min_child_weight': 4, 'learning_rate': 0.0020672951730372996, 'subsample': 0.8356895438774705, 'colsample_bytree': 0.8484840661391027, 'reg_alpha': 8.668302476313369e-08, 'reg_lambda': 0.06564372675339808}. Best is trial 21 with value: 0.8062519090769356.\n",
      "[I 2025-02-23 01:57:46,827] Trial 28 finished with value: 0.8050667709756799 and parameters: {'max_depth': 11, 'min_child_weight': 4, 'learning_rate': 0.004406120549523044, 'subsample': 0.8173562672314254, 'colsample_bytree': 0.762569598457994, 'reg_alpha': 1.1073065561724382e-07, 'reg_lambda': 0.08768517557977257}. Best is trial 21 with value: 0.8062519090769356.\n",
      "[I 2025-02-23 01:58:10,118] Trial 29 finished with value: 0.8015645067386777 and parameters: {'max_depth': 6, 'min_child_weight': 4, 'learning_rate': 0.002425463653860168, 'subsample': 0.8485720707807675, 'colsample_bytree': 0.6752097074517723, 'reg_alpha': 2.82954283626504e-08, 'reg_lambda': 0.0038492628708821936}. Best is trial 21 with value: 0.8062519090769356.\n",
      "[I 2025-02-23 01:58:34,489] Trial 30 finished with value: 0.8039103756597743 and parameters: {'max_depth': 12, 'min_child_weight': 2, 'learning_rate': 0.013009044628425687, 'subsample': 0.8731593784201858, 'colsample_bytree': 0.564630562147044, 'reg_alpha': 9.14656790684922e-05, 'reg_lambda': 0.04052479866683107}. Best is trial 21 with value: 0.8062519090769356.\n",
      "[I 2025-02-23 01:59:18,981] Trial 31 finished with value: 0.8055678227568915 and parameters: {'max_depth': 10, 'min_child_weight': 5, 'learning_rate': 0.0023314621915777505, 'subsample': 0.5566141318439071, 'colsample_bytree': 0.8305981533717395, 'reg_alpha': 9.63061414173766e-07, 'reg_lambda': 0.9563893799996662}. Best is trial 21 with value: 0.8062519090769356.\n",
      "[I 2025-02-23 02:00:35,575] Trial 32 finished with value: 0.8054219009346182 and parameters: {'max_depth': 11, 'min_child_weight': 3, 'learning_rate': 0.001560267755067912, 'subsample': 0.7244859919372808, 'colsample_bytree': 0.9530821352573254, 'reg_alpha': 1.7033577779208019e-07, 'reg_lambda': 0.0007716614754137886}. Best is trial 21 with value: 0.8062519090769356.\n",
      "[I 2025-02-23 02:00:55,780] Trial 33 finished with value: 0.8058391530448545 and parameters: {'max_depth': 9, 'min_child_weight': 6, 'learning_rate': 0.005918860191607271, 'subsample': 0.6040109840241934, 'colsample_bytree': 0.8538075993597464, 'reg_alpha': 5.138259864405809e-08, 'reg_lambda': 0.2173248698179693}. Best is trial 21 with value: 0.8062519090769356.\n",
      "[I 2025-02-23 02:01:22,628] Trial 34 finished with value: 0.8051058507264317 and parameters: {'max_depth': 9, 'min_child_weight': 4, 'learning_rate': 0.0035608029202263314, 'subsample': 0.6844181545444398, 'colsample_bytree': 0.8509264495758291, 'reg_alpha': 6.495874739534282e-08, 'reg_lambda': 0.24469652598803884}. Best is trial 21 with value: 0.8062519090769356.\n",
      "[I 2025-02-23 02:01:35,265] Trial 35 finished with value: 0.8016023018956709 and parameters: {'max_depth': 5, 'min_child_weight': 1, 'learning_rate': 0.006962142519370498, 'subsample': 0.6232792088577154, 'colsample_bytree': 0.7921685267627984, 'reg_alpha': 2.382931508626105e-08, 'reg_lambda': 0.17324763343872043}. Best is trial 21 with value: 0.8062519090769356.\n",
      "[I 2025-02-23 02:01:51,429] Trial 36 finished with value: 0.8044217844781653 and parameters: {'max_depth': 8, 'min_child_weight': 6, 'learning_rate': 0.0051179505675312, 'subsample': 0.5885658935372381, 'colsample_bytree': 0.6923501916006979, 'reg_alpha': 2.3011111151727772e-07, 'reg_lambda': 0.007175389049159388}. Best is trial 21 with value: 0.8062519090769356.\n",
      "[I 2025-02-23 02:02:07,496] Trial 37 finished with value: 0.8057052542172912 and parameters: {'max_depth': 9, 'min_child_weight': 5, 'learning_rate': 0.006949746223609123, 'subsample': 0.652968535101194, 'colsample_bytree': 0.8134169175220953, 'reg_alpha': 7.007838054413167e-08, 'reg_lambda': 0.0566026191818171}. Best is trial 21 with value: 0.8062519090769356.\n",
      "[I 2025-02-23 02:02:30,274] Trial 38 finished with value: 0.8061965711864255 and parameters: {'max_depth': 11, 'min_child_weight': 6, 'learning_rate': 0.006074352756566811, 'subsample': 0.7551417283932219, 'colsample_bytree': 0.7702203678788564, 'reg_alpha': 1.132563509645728e-08, 'reg_lambda': 0.03354376689163495}. Best is trial 21 with value: 0.8062519090769356.\n",
      "[I 2025-02-23 02:02:39,151] Trial 39 finished with value: 0.8047129256105002 and parameters: {'max_depth': 11, 'min_child_weight': 6, 'learning_rate': 0.016677175813471844, 'subsample': 0.7038362127952439, 'colsample_bytree': 0.7755734092242752, 'reg_alpha': 1.2377788759015347e-08, 'reg_lambda': 0.0013388928196900647}. Best is trial 21 with value: 0.8062519090769356.\n",
      "[I 2025-02-23 02:02:56,654] Trial 40 finished with value: 0.8059586604079654 and parameters: {'max_depth': 10, 'min_child_weight': 8, 'learning_rate': 0.006482399723068228, 'subsample': 0.7515387252053116, 'colsample_bytree': 0.7378007394468431, 'reg_alpha': 0.08706107180844261, 'reg_lambda': 0.027548101030566437}. Best is trial 21 with value: 0.8062519090769356.\n",
      "[I 2025-02-23 02:03:13,261] Trial 41 finished with value: 0.8051907142016137 and parameters: {'max_depth': 10, 'min_child_weight': 8, 'learning_rate': 0.008814993717285816, 'subsample': 0.750216146470363, 'colsample_bytree': 0.7164997670317821, 'reg_alpha': 0.027555029563202636, 'reg_lambda': 0.01773285908974105}. Best is trial 21 with value: 0.8062519090769356.\n",
      "[I 2025-02-23 02:03:30,218] Trial 42 finished with value: 0.804955472969558 and parameters: {'max_depth': 10, 'min_child_weight': 9, 'learning_rate': 0.005967542151389099, 'subsample': 0.8098056686280313, 'colsample_bytree': 0.6437347338464574, 'reg_alpha': 0.0014068074568426346, 'reg_lambda': 0.04144818754871757}. Best is trial 21 with value: 0.8062519090769356.\n",
      "[I 2025-02-23 02:03:49,472] Trial 43 finished with value: 0.8054318364644705 and parameters: {'max_depth': 9, 'min_child_weight': 6, 'learning_rate': 0.006007510497181861, 'subsample': 0.7671449577083003, 'colsample_bytree': 0.7283427184368921, 'reg_alpha': 0.6141456035441568, 'reg_lambda': 0.4285944914087384}. Best is trial 21 with value: 0.8062519090769356.\n",
      "[I 2025-02-23 02:04:04,637] Trial 44 finished with value: 0.8054844044496884 and parameters: {'max_depth': 12, 'min_child_weight': 10, 'learning_rate': 0.010381633742022419, 'subsample': 0.8890190723368676, 'colsample_bytree': 0.7470786550144737, 'reg_alpha': 0.15296945554998456, 'reg_lambda': 0.13238240611450183}. Best is trial 21 with value: 0.8062519090769356.\n",
      "[I 2025-02-23 02:04:20,049] Trial 45 finished with value: 0.8051932633173533 and parameters: {'max_depth': 11, 'min_child_weight': 7, 'learning_rate': 0.00769961511473119, 'subsample': 0.7501279095434104, 'colsample_bytree': 0.6036463532465903, 'reg_alpha': 0.039989230458046365, 'reg_lambda': 0.0058214483607680854}. Best is trial 21 with value: 0.8062519090769356.\n",
      "[I 2025-02-23 02:04:27,485] Trial 46 finished with value: 0.8048760288742955 and parameters: {'max_depth': 10, 'min_child_weight': 8, 'learning_rate': 0.021301383449385425, 'subsample': 0.8122049194931932, 'colsample_bytree': 0.7787078944462216, 'reg_alpha': 2.8667994578820183e-08, 'reg_lambda': 0.00021678883264031503}. Best is trial 21 with value: 0.8062519090769356.\n",
      "[I 2025-02-23 02:04:42,897] Trial 47 finished with value: 0.8033049707074487 and parameters: {'max_depth': 7, 'min_child_weight': 9, 'learning_rate': 0.004319481992986096, 'subsample': 0.7924884252871687, 'colsample_bytree': 0.8559243335090528, 'reg_alpha': 5.317344548628167e-08, 'reg_lambda': 0.4149785502628252}. Best is trial 21 with value: 0.8062519090769356.\n",
      "[I 2025-02-23 02:05:16,801] Trial 48 finished with value: 0.8048592890118781 and parameters: {'max_depth': 8, 'min_child_weight': 5, 'learning_rate': 0.0028771776801517672, 'subsample': 0.7046420181205547, 'colsample_bytree': 0.8169452985055647, 'reg_alpha': 4.3515719647185934e-06, 'reg_lambda': 0.02824357092496302}. Best is trial 21 with value: 0.8062519090769356.\n",
      "[I 2025-02-23 02:05:34,499] Trial 49 finished with value: 0.804590969490537 and parameters: {'max_depth': 12, 'min_child_weight': 6, 'learning_rate': 0.009215144966765601, 'subsample': 0.8507864726160028, 'colsample_bytree': 0.6862949964172812, 'reg_alpha': 1.2474092024738943e-08, 'reg_lambda': 0.2354162166359971}. Best is trial 21 with value: 0.8062519090769356.\n"
     ]
    },
    {
     "name": "stdout",
     "output_type": "stream",
     "text": [
      "Best trial: {'max_depth': 11, 'min_child_weight': 5, 'learning_rate': 0.004466022836585045, 'subsample': 0.703237335080885, 'colsample_bytree': 0.9949901696482174, 'reg_alpha': 7.196356878367213e-07, 'reg_lambda': 0.023281418194967988}\n"
     ]
    }
   ],
   "source": [
    "import optuna\n",
    "import xgboost as xgb\n",
    "from sklearn.metrics import roc_auc_score\n",
    "\n",
    "def objective(trial):\n",
    "    params = {\n",
    "        'objective': 'binary:logistic',\n",
    "        'eval_metric': 'auc',\n",
    "        'tree_method': 'hist',\n",
    "        'max_depth': trial.suggest_int('max_depth', 3, 12),\n",
    "        'min_child_weight': trial.suggest_int('min_child_weight', 1, 10),\n",
    "        'learning_rate': trial.suggest_float('learning_rate', 0.001, 0.1, log=True),  \n",
    "        'n_estimators': 5000,\n",
    "        'subsample': trial.suggest_float('subsample', 0.5, 1.0),  \n",
    "        'colsample_bytree': trial.suggest_float('colsample_bytree', 0.5, 1.0),\n",
    "        'reg_alpha': trial.suggest_float('reg_alpha', 1e-8, 1.0, log=True),  \n",
    "        'reg_lambda': trial.suggest_float('reg_lambda', 1e-8, 1.0, log=True), \n",
    "        'random_state': 42\n",
    "    }\n",
    "    \n",
    "    model = xgb.XGBClassifier(**params, early_stopping_rounds=200)\n",
    "    model.fit(X_train, y_train, eval_set=[(X_val, y_val)], verbose=False)\n",
    "    y_pred_prob = model.predict_proba(X_val)[:, 1]\n",
    "    auc = roc_auc_score(y_val, y_pred_prob)\n",
    "    return auc\n",
    "\n",
    "study = optuna.create_study(direction='maximize')\n",
    "study.optimize(objective, n_trials=50)\n",
    "print(\"Best trial:\", study.best_trial.params)"
   ]
  },
  {
   "cell_type": "code",
   "execution_count": 6,
   "metadata": {},
   "outputs": [
    {
     "name": "stderr",
     "output_type": "stream",
     "text": [
      "/home/vchan26/.conda/envs/ics435/lib/python3.11/site-packages/pytorch_tabnet/abstract_model.py:82: UserWarning: Device used : cuda\n",
      "  warnings.warn(f\"Device used : {self.device}\")\n",
      "/home/vchan26/.conda/envs/ics435/lib/python3.11/site-packages/pytorch_tabnet/abstract_model.py:687: UserWarning: No early stopping will be performed, last training weights will be used.\n",
      "  warnings.warn(wrn_msg)\n"
     ]
    },
    {
     "name": "stdout",
     "output_type": "stream",
     "text": [
      "epoch 0  | loss: 0.69178 |  0:00:03s\n",
      "epoch 1  | loss: 0.64896 |  0:00:05s\n",
      "epoch 2  | loss: 0.63479 |  0:00:07s\n",
      "epoch 3  | loss: 0.61966 |  0:00:08s\n",
      "epoch 4  | loss: 0.61436 |  0:00:10s\n",
      "epoch 5  | loss: 0.613   |  0:00:12s\n",
      "epoch 6  | loss: 0.60961 |  0:00:14s\n",
      "epoch 7  | loss: 0.60583 |  0:00:16s\n",
      "epoch 8  | loss: 0.60204 |  0:00:18s\n",
      "epoch 9  | loss: 0.59676 |  0:00:20s\n",
      "epoch 10 | loss: 0.60214 |  0:00:22s\n",
      "epoch 11 | loss: 0.59703 |  0:00:23s\n",
      "epoch 12 | loss: 0.5915  |  0:00:25s\n",
      "epoch 13 | loss: 0.59384 |  0:00:27s\n",
      "epoch 14 | loss: 0.59534 |  0:00:29s\n",
      "epoch 15 | loss: 0.59505 |  0:00:31s\n",
      "epoch 16 | loss: 0.59313 |  0:00:33s\n",
      "epoch 17 | loss: 0.59086 |  0:00:35s\n",
      "epoch 18 | loss: 0.58794 |  0:00:37s\n",
      "epoch 19 | loss: 0.58655 |  0:00:39s\n",
      "epoch 20 | loss: 0.58473 |  0:00:41s\n",
      "epoch 21 | loss: 0.58143 |  0:00:43s\n",
      "epoch 22 | loss: 0.5762  |  0:00:45s\n",
      "epoch 23 | loss: 0.5776  |  0:00:47s\n",
      "epoch 24 | loss: 0.57476 |  0:00:49s\n",
      "epoch 25 | loss: 0.57133 |  0:00:51s\n",
      "epoch 26 | loss: 0.57596 |  0:00:52s\n",
      "epoch 27 | loss: 0.57186 |  0:00:54s\n",
      "epoch 28 | loss: 0.57182 |  0:00:56s\n",
      "epoch 29 | loss: 0.56759 |  0:00:58s\n",
      "epoch 30 | loss: 0.56478 |  0:01:00s\n",
      "epoch 31 | loss: 0.566   |  0:01:02s\n",
      "epoch 32 | loss: 0.56188 |  0:01:04s\n",
      "epoch 33 | loss: 0.57101 |  0:01:06s\n",
      "epoch 34 | loss: 0.56742 |  0:01:08s\n",
      "epoch 35 | loss: 0.566   |  0:01:09s\n",
      "epoch 36 | loss: 0.56125 |  0:01:11s\n",
      "epoch 37 | loss: 0.55803 |  0:01:13s\n",
      "epoch 38 | loss: 0.5611  |  0:01:15s\n",
      "epoch 39 | loss: 0.55935 |  0:01:17s\n",
      "epoch 40 | loss: 0.55475 |  0:01:19s\n",
      "epoch 41 | loss: 0.55986 |  0:01:21s\n",
      "epoch 42 | loss: 0.55789 |  0:01:22s\n",
      "epoch 43 | loss: 0.56122 |  0:01:24s\n",
      "epoch 44 | loss: 0.5562  |  0:01:26s\n",
      "epoch 45 | loss: 0.5587  |  0:01:28s\n",
      "epoch 46 | loss: 0.55722 |  0:01:29s\n",
      "epoch 47 | loss: 0.55688 |  0:01:31s\n",
      "epoch 48 | loss: 0.55288 |  0:01:33s\n",
      "epoch 49 | loss: 0.55284 |  0:01:35s\n",
      "epoch 50 | loss: 0.55093 |  0:01:37s\n",
      "epoch 51 | loss: 0.55039 |  0:01:39s\n",
      "epoch 52 | loss: 0.55246 |  0:01:41s\n",
      "epoch 53 | loss: 0.55354 |  0:01:43s\n",
      "epoch 54 | loss: 0.55323 |  0:01:45s\n",
      "epoch 55 | loss: 0.55114 |  0:01:47s\n",
      "epoch 56 | loss: 0.55157 |  0:01:49s\n",
      "epoch 57 | loss: 0.54871 |  0:01:50s\n",
      "epoch 58 | loss: 0.5469  |  0:01:52s\n",
      "epoch 59 | loss: 0.54587 |  0:01:54s\n",
      "epoch 60 | loss: 0.54865 |  0:01:56s\n",
      "epoch 61 | loss: 0.54808 |  0:01:58s\n",
      "epoch 62 | loss: 0.54983 |  0:02:00s\n",
      "epoch 63 | loss: 0.55882 |  0:02:02s\n",
      "epoch 64 | loss: 0.54967 |  0:02:04s\n",
      "epoch 65 | loss: 0.54926 |  0:02:06s\n",
      "epoch 66 | loss: 0.55992 |  0:02:08s\n",
      "epoch 67 | loss: 0.55763 |  0:02:10s\n",
      "epoch 68 | loss: 0.55575 |  0:02:12s\n",
      "epoch 69 | loss: 0.55824 |  0:02:14s\n",
      "epoch 70 | loss: 0.55567 |  0:02:16s\n",
      "epoch 71 | loss: 0.55356 |  0:02:18s\n",
      "epoch 72 | loss: 0.55228 |  0:02:20s\n",
      "epoch 73 | loss: 0.54636 |  0:02:21s\n",
      "epoch 74 | loss: 0.54566 |  0:02:23s\n",
      "epoch 75 | loss: 0.55158 |  0:02:25s\n",
      "epoch 76 | loss: 0.54817 |  0:02:27s\n",
      "epoch 77 | loss: 0.54191 |  0:02:29s\n",
      "epoch 78 | loss: 0.5419  |  0:02:30s\n",
      "epoch 79 | loss: 0.53841 |  0:02:32s\n",
      "epoch 80 | loss: 0.53804 |  0:02:34s\n",
      "epoch 81 | loss: 0.54199 |  0:02:36s\n",
      "epoch 82 | loss: 0.53904 |  0:02:38s\n",
      "epoch 83 | loss: 0.53695 |  0:02:40s\n",
      "epoch 84 | loss: 0.53771 |  0:02:42s\n",
      "epoch 85 | loss: 0.53773 |  0:02:44s\n",
      "epoch 86 | loss: 0.5373  |  0:02:46s\n",
      "epoch 87 | loss: 0.53457 |  0:02:48s\n",
      "epoch 88 | loss: 0.53529 |  0:02:50s\n",
      "epoch 89 | loss: 0.53707 |  0:02:51s\n",
      "epoch 90 | loss: 0.53176 |  0:02:53s\n",
      "epoch 91 | loss: 0.53154 |  0:02:55s\n",
      "epoch 92 | loss: 0.53156 |  0:02:56s\n",
      "epoch 93 | loss: 0.53219 |  0:02:58s\n",
      "epoch 94 | loss: 0.53163 |  0:03:00s\n",
      "epoch 95 | loss: 0.53296 |  0:03:02s\n",
      "epoch 96 | loss: 0.52345 |  0:03:04s\n",
      "epoch 97 | loss: 0.53081 |  0:03:06s\n",
      "epoch 98 | loss: 0.52968 |  0:03:08s\n",
      "epoch 99 | loss: 0.52892 |  0:03:10s\n",
      "epoch 100| loss: 0.53025 |  0:03:12s\n",
      "epoch 101| loss: 0.52433 |  0:03:14s\n",
      "epoch 102| loss: 0.5272  |  0:03:15s\n",
      "epoch 103| loss: 0.52793 |  0:03:17s\n",
      "epoch 104| loss: 0.52627 |  0:03:19s\n",
      "epoch 105| loss: 0.52477 |  0:03:21s\n",
      "epoch 106| loss: 0.52784 |  0:03:22s\n",
      "epoch 107| loss: 0.52696 |  0:03:24s\n",
      "epoch 108| loss: 0.52869 |  0:03:26s\n",
      "epoch 109| loss: 0.52549 |  0:03:28s\n",
      "epoch 110| loss: 0.52276 |  0:03:29s\n",
      "epoch 111| loss: 0.52246 |  0:03:31s\n",
      "epoch 112| loss: 0.52616 |  0:03:33s\n",
      "epoch 113| loss: 0.52428 |  0:03:34s\n",
      "epoch 114| loss: 0.52333 |  0:03:36s\n",
      "epoch 115| loss: 0.51998 |  0:03:38s\n",
      "epoch 116| loss: 0.5236  |  0:03:40s\n",
      "epoch 117| loss: 0.52366 |  0:03:42s\n",
      "epoch 118| loss: 0.52088 |  0:03:44s\n",
      "epoch 119| loss: 0.51982 |  0:03:46s\n",
      "epoch 120| loss: 0.52052 |  0:03:48s\n",
      "epoch 121| loss: 0.51988 |  0:03:49s\n",
      "epoch 122| loss: 0.51932 |  0:03:51s\n",
      "epoch 123| loss: 0.51618 |  0:03:53s\n",
      "epoch 124| loss: 0.51799 |  0:03:55s\n",
      "epoch 125| loss: 0.51735 |  0:03:57s\n",
      "epoch 126| loss: 0.51879 |  0:03:59s\n",
      "epoch 127| loss: 0.51717 |  0:04:00s\n",
      "epoch 128| loss: 0.51666 |  0:04:02s\n",
      "epoch 129| loss: 0.5176  |  0:04:04s\n",
      "epoch 130| loss: 0.51627 |  0:04:05s\n",
      "epoch 131| loss: 0.51122 |  0:04:07s\n",
      "epoch 132| loss: 0.51709 |  0:04:09s\n",
      "epoch 133| loss: 0.51885 |  0:04:10s\n",
      "epoch 134| loss: 0.51699 |  0:04:12s\n",
      "epoch 135| loss: 0.5175  |  0:04:14s\n",
      "epoch 136| loss: 0.51446 |  0:04:15s\n",
      "epoch 137| loss: 0.51677 |  0:04:17s\n",
      "epoch 138| loss: 0.51383 |  0:04:19s\n",
      "epoch 139| loss: 0.51016 |  0:04:20s\n",
      "epoch 140| loss: 0.51283 |  0:04:22s\n",
      "epoch 141| loss: 0.5121  |  0:04:24s\n",
      "epoch 142| loss: 0.51835 |  0:04:26s\n",
      "epoch 143| loss: 0.50977 |  0:04:28s\n",
      "epoch 144| loss: 0.51449 |  0:04:30s\n",
      "epoch 145| loss: 0.51016 |  0:04:32s\n",
      "epoch 146| loss: 0.51096 |  0:04:33s\n",
      "epoch 147| loss: 0.51587 |  0:04:35s\n",
      "epoch 148| loss: 0.5086  |  0:04:37s\n",
      "epoch 149| loss: 0.5135  |  0:04:39s\n",
      "epoch 150| loss: 0.51038 |  0:04:40s\n",
      "epoch 151| loss: 0.51287 |  0:04:42s\n",
      "epoch 152| loss: 0.50751 |  0:04:44s\n",
      "epoch 153| loss: 0.50715 |  0:04:45s\n",
      "epoch 154| loss: 0.51326 |  0:04:47s\n",
      "epoch 155| loss: 0.51148 |  0:04:49s\n",
      "epoch 156| loss: 0.5102  |  0:04:51s\n",
      "epoch 157| loss: 0.50903 |  0:04:53s\n",
      "epoch 158| loss: 0.51336 |  0:04:54s\n",
      "epoch 159| loss: 0.50698 |  0:04:56s\n",
      "epoch 160| loss: 0.50489 |  0:04:58s\n",
      "epoch 161| loss: 0.51004 |  0:05:00s\n",
      "epoch 162| loss: 0.50926 |  0:05:01s\n",
      "epoch 163| loss: 0.51098 |  0:05:03s\n",
      "epoch 164| loss: 0.51099 |  0:05:05s\n",
      "epoch 165| loss: 0.50862 |  0:05:06s\n",
      "epoch 166| loss: 0.50802 |  0:05:08s\n",
      "epoch 167| loss: 0.50711 |  0:05:10s\n",
      "epoch 168| loss: 0.50833 |  0:05:12s\n",
      "epoch 169| loss: 0.50571 |  0:05:14s\n",
      "epoch 170| loss: 0.50742 |  0:05:16s\n",
      "epoch 171| loss: 0.50847 |  0:05:18s\n",
      "epoch 172| loss: 0.50709 |  0:05:20s\n",
      "epoch 173| loss: 0.50506 |  0:05:22s\n",
      "epoch 174| loss: 0.51074 |  0:05:23s\n",
      "epoch 175| loss: 0.50608 |  0:05:25s\n",
      "epoch 176| loss: 0.50228 |  0:05:27s\n",
      "epoch 177| loss: 0.50515 |  0:05:29s\n",
      "epoch 178| loss: 0.50851 |  0:05:30s\n",
      "epoch 179| loss: 0.50719 |  0:05:32s\n",
      "epoch 180| loss: 0.50802 |  0:05:34s\n",
      "epoch 181| loss: 0.49962 |  0:05:36s\n",
      "epoch 182| loss: 0.50392 |  0:05:38s\n",
      "epoch 183| loss: 0.50594 |  0:05:40s\n",
      "epoch 184| loss: 0.50417 |  0:05:42s\n",
      "epoch 185| loss: 0.50243 |  0:05:44s\n",
      "epoch 186| loss: 0.50532 |  0:05:46s\n",
      "epoch 187| loss: 0.50243 |  0:05:47s\n",
      "epoch 188| loss: 0.50148 |  0:05:49s\n",
      "epoch 189| loss: 0.5031  |  0:05:51s\n",
      "epoch 190| loss: 0.50505 |  0:05:52s\n",
      "epoch 191| loss: 0.50285 |  0:05:54s\n",
      "epoch 192| loss: 0.5023  |  0:05:56s\n",
      "epoch 193| loss: 0.50651 |  0:05:57s\n",
      "epoch 194| loss: 0.5031  |  0:05:59s\n",
      "epoch 195| loss: 0.50365 |  0:06:01s\n",
      "epoch 196| loss: 0.50211 |  0:06:03s\n",
      "epoch 197| loss: 0.5035  |  0:06:05s\n",
      "epoch 198| loss: 0.50233 |  0:06:07s\n",
      "epoch 199| loss: 0.50423 |  0:06:09s\n"
     ]
    }
   ],
   "source": [
    "\n",
    "# define the model\n",
    "clf= TabNetClassifier(\n",
    "                    optimizer_fn=torch.optim.Adam,\n",
    "                    scheduler_params={\"step_size\":10, \n",
    "                                        \"gamma\":0.9},\n",
    "                    scheduler_fn=torch.optim.lr_scheduler.StepLR,\n",
    "                    device_name='cuda')\n",
    "\n",
    "xt = X_train_selected.to_numpy()\n",
    "yt = y_train.to_numpy()\n",
    "# xv = X_val_selected.to_numpy()\n",
    "# yv = y_val.to_numpy()\n",
    "# fit the model \n",
    "clf.fit(\n",
    "    xt,yt,\n",
    "    # eval_set=[(xt,yt), (xv, yv)],\n",
    "    # eval_name=['train', 'test'],\n",
    "    # eval_metric=['auc','balanced_accuracy'],\n",
    "    max_epochs=200, patience=60,\n",
    "    batch_size=512, virtual_batch_size=512,\n",
    "    num_workers=0,\n",
    "    weights=1,\n",
    "    drop_last=False\n",
    ")            "
   ]
  },
  {
   "cell_type": "code",
   "execution_count": null,
   "metadata": {},
   "outputs": [],
   "source": []
  },
  {
   "cell_type": "code",
   "execution_count": 38,
   "metadata": {},
   "outputs": [],
   "source": [
    "xv = X_val[selected_features].to_numpy()\n",
    "y_pred_prob2 = clf.predict_proba(xv)[:, 1]"
   ]
  },
  {
   "cell_type": "code",
   "execution_count": 44,
   "metadata": {
    "colab": {
     "base_uri": "https://localhost:8080/",
     "height": 485
    },
    "id": "jMGNO8jiCu-D",
    "outputId": "45929dac-7926-41e6-802f-9dff4762aa89"
   },
   "outputs": [
    {
     "name": "stdout",
     "output_type": "stream",
     "text": [
      "0.8092411988969033\n"
     ]
    },
    {
     "data": {
      "text/plain": [
       "Text(0, 0.5, 'True Positive Rate')"
      ]
     },
     "execution_count": 44,
     "metadata": {},
     "output_type": "execute_result"
    },
    {
     "data": {
      "image/png": "[encoded data removed]",
      "text/plain": [
       "<Figure size 640x480 with 1 Axes>"
      ]
     },
     "metadata": {},
     "output_type": "display_data"
    }
   ],
   "source": [
    "averaged_probabilities = (y_pred_prob * 0.9 + y_pred_prob2 * 0.1)\n",
    "\n",
    "\n",
    "fpr, tpr, thresholds = metrics.roc_curve(y_val, averaged_probabilities, pos_label=1)\n",
    "print(metrics.auc(fpr, tpr))\n",
    "\n",
    "plt.plot(fpr, tpr)\n",
    "plt.plot([0, 1], [0, 1], color='navy', lw=1, linestyle='--')\n",
    "plt.xlim([0.0, 1.0])\n",
    "plt.ylim([0.0, 1.05])\n",
    "plt.xlabel('False Positive Rate')\n",
    "plt.ylabel('True Positive Rate')\n"
   ]
  },
  {
   "cell_type": "code",
   "execution_count": 7,
   "metadata": {
    "colab": {
     "base_uri": "https://localhost:8080/"
    },
    "id": "wBck4FX7BKJZ",
    "outputId": "2b26a643-cf2b-4f9b-b0d4-3b334ca5056d"
   },
   "outputs": [
    {
     "name": "stdout",
     "output_type": "stream",
     "text": [
      "[0.057201   0.34034422 0.7326622  ... 0.9386443  0.14421473 0.10549067]\n"
     ]
    }
   ],
   "source": [
    "test = test[selected_features]\n",
    "predictions = (xgb_model.predict_proba(test)[:, 1] * 0.9 + clf.predict_proba(test.to_numpy())[:,1] * 0.1)\n",
    "# predictions = xgb_model.predict_proba(test)[:,1]\n",
    "print(predictions)\n",
    "ids = np.arange(len(predictions))\n",
    "submission = np.column_stack((ids, predictions))\n",
    "np.savetxt(fname='sumbision.csv', X=submission, header='Id,Predicted', delimiter=',', comments='')\n"
   ]
  }
 ],
 "metadata": {
  "accelerator": "GPU",
  "colab": {
   "gpuType": "T4",
   "provenance": []
  },
  "kernelspec": {
   "display_name": "ics435",
   "language": "python",
   "name": "ics435"
  },
  "language_info": {
   "codemirror_mode": {
    "name": "ipython",
    "version": 3
   },
   "file_extension": ".py",
   "mimetype": "text/x-python",
   "name": "python",
   "nbconvert_exporter": "python",
   "pygments_lexer": "ipython3",
   "version": "3.11.11"
  }
 },
 "nbformat": 4,
 "nbformat_minor": 4
}
